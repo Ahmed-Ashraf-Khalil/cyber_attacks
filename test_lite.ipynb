{
 "cells": [
  {
   "cell_type": "code",
   "execution_count": null,
   "metadata": {},
   "outputs": [],
   "source": [
    "# import required libraries \n",
    "import numpy as np\n",
    "import pandas as pd \n",
    "import tensorflow as tf\n",
    "\n",
    "from sklearn.preprocessing import RobustScaler"
   ]
  },
  {
   "cell_type": "code",
   "execution_count": null,
   "metadata": {},
   "outputs": [],
   "source": [
    "to_be_dropped =['Flow ID', 'Src IP', 'Dst IP', 'Src Port', 'Protocol', 'Timestamp','Label']"
   ]
  },
  {
   "cell_type": "code",
   "execution_count": null,
   "metadata": {},
   "outputs": [],
   "source": [
    "#modification\n",
    "sc = RobustScaler()\n",
    "data_test = sc.fit_transform(data_test).astype('float32')  ## return data_test as numpy.ndarry not as pandas anymore"
   ]
  },
  {
   "cell_type": "code",
   "execution_count": null,
   "metadata": {},
   "outputs": [],
   "source": [
    "{0: 'BENIGN', 4: 'DoS_Hulk', 2: 'DDoS', 10: 'PortScan', 3: 'DoS_GoldenEye', 7: 'FTPPatator', 6: 'DoS_slowloris', 5: 'DoS_Slowhttptest', 11: 'SSHPatator', 1: 'Bot', 12: 'Web_Attack_Brute_Force', 14: 'Web_Attack_XSS', 9: 'Infiltration', 13: 'Web_Attack_Sql_Injection', 8: 'Heartbleed'}"
   ]
  },
  {
   "cell_type": "code",
   "execution_count": null,
   "metadata": {},
   "outputs": [],
   "source": [
    "def evaluate_model(lite_model_path):\n",
    "    interpreter = tflite.Interpreter(model_path=lite_model_path)\n",
    "    interpreter.allocate_tensors()\n",
    "\n",
    "    input_details = interpreter.get_input_details()\n",
    "    output_details = interpreter.get_output_details()\n",
    "    # Run predictions on every attack in the \"test\" dataset.\n",
    "    prediction_classes = []\n",
    "    longueur = len(data_test)\n",
    "    N_normal=0\n",
    "    N_DoSHulk =0\n",
    "    N_PortScan=0\n",
    "    N_DDoS=0\n",
    "    N_DoSGoldenEye=0\n",
    "    N_FTP_Patator=0\n",
    "    N_SSH_Patator=0\n",
    "    N_DoSSlowloris=0\n",
    "    N_DoSSlowhttptest=0\n",
    "    N_Bot=0\n",
    "    N_BruteForce=0\n",
    "    N_XSS=0\n",
    "    N_Infiltration=0\n",
    "    N_SQLInjection=0\n",
    "    N_Heartbleed=0\n",
    "    for i in range(longueur):\n",
    "    #modification\n",
    "    # reshape each array \n",
    "        interpreter.set_tensor(input_details[0]['index'], data_test[i].reshape(1,77))\n",
    "    # Run inference.\n",
    "        interpreter.invoke()\n",
    "\n",
    "    # probability.\n",
    "        output = interpreter.get_tensor(output_details[0]['index'])\n",
    "        #modification: due to the use of categorical_crossEntropy (np.argmax)   \n",
    "        prediction = target_class[np.argmax(output)]   ## cause of using cce / scce\n",
    "        if prediction == 'BENIGN':\n",
    "             N_normal =  N_normal + 1\n",
    "        elif prediction == 'DDoS':\n",
    "             N_DDoS += 1\n",
    "        elif prediction == 'PortScan':\n",
    "             N_PortScan += 1\n",
    "        elif prediction == 'Bot':\n",
    "             N_Bot +=1\n",
    "        elif prediction == 'Infiltration':\n",
    "             N_Infiltration +=1\n",
    "        elif prediction == 'Web_Attack_Brute_Force':\n",
    "             N_BruteForce +=1\n",
    "        elif prediction == 'Web_Attack_XSS':\n",
    "             N_XSS +=1\n",
    "        elif prediction == 'Web_Attack_Sql_Injection':\n",
    "             N_SQLInjection +=1\n",
    "        elif prediction == 'FTPPatator':\n",
    "             N_FTP_Patator +=1\n",
    "        elif prediction == 'SSHPatator':\n",
    "             N_SSH_Patator +=1\n",
    "        elif prediction == 'DoS_slowloris':\n",
    "             N_DoSSlowloris +=1\n",
    "        elif prediction == 'DoS_Slowhttptest':\n",
    "             N_DoSSlowhttptest +=1\n",
    "        elif prediction == 'DoS_Hulk':\n",
    "             N_DoSHulk +=1\n",
    "        elif prediction == 'DoS_GoldenEye':\n",
    "             N_DoSGoldenEye +=1    \n",
    "        else:\n",
    "             N_Heartbleed +=1\n",
    "        print(prediction)\n",
    "        \n",
    "    print(f\"Number of Normal traffic predicted :  {N_normal}\")\n",
    "    print(f\"Number of Heartbleed attacks predicted :   {N_Heartbleed}\")\n",
    "    print(f\"Number of Web_Attack_Sql_Injection attacks predicted :  {N_SQLInjection}\")\n",
    "    print(f\"Number of Infiltration attacks predicted :  {N_Infiltration}\")\n",
    "    print(f\"Number of Web_Attack_XSS attacks predicted :  {N_XSS}\")\n",
    "    print(f\"Number of Web_Attack_Brute_Force attacks predicted :  {N_BruteForce}\")\n",
    "    print(f\"Number of Bot attacks predicted :  {N_Bot}\")\n",
    "    print(f\"Number of DoS_Slowhttptest attacks predicted :  {N_DoSSlowhttptest}\")\n",
    "    print(f\"Number of DoS_slowloris attacks predicted :  {N_DoSSlowloris}\")\n",
    "    print(f\"Number of SSHPatator attacks predicted :  {N_SSH_Patator}\")\n",
    "    print(f\"Number of FTPPatator attacks predicted :  {N_FTP_Patator}\")\n",
    "    print(f\"Number of DoS_GoldenEye attacks predicted :  {N_DoSGoldenEye}\")\n",
    "    print(f\"Number DDoS attacks predicted :  {N_DDoS}\")\n",
    "    print(f\"Number of PortScan attacks predicted :  {N_PortScan}\")\n",
    "    print(f\"Number of DoS_Hulk attacks predicted :  {N_DoSHulk}\")\n",
    "    print(f\"Number of not attacks :  {N_normal}\")\n",
    "    print(f\"Number of attacks :  {N_Heartbleed+N_SQLInjection+N_Infiltration+N_XSS+N_BruteForce+N_Bot+N_DoSSlowhttptest+N_DoSSlowloris+N_SSH_Patator+N_FTP_Patator+N_DoSGoldenEye+N_DDoS+N_PortScan+N_DoSHulk}\") "
   ]
  }
 ],
 "metadata": {
  "kernelspec": {
   "display_name": "Python 3",
   "language": "python",
   "name": "python3"
  },
  "language_info": {
   "codemirror_mode": {
    "name": "ipython",
    "version": 3
   },
   "file_extension": ".py",
   "mimetype": "text/x-python",
   "name": "python",
   "nbconvert_exporter": "python",
   "pygments_lexer": "ipython3",
   "version": "3.6.5"
  }
 },
 "nbformat": 4,
 "nbformat_minor": 4
}
